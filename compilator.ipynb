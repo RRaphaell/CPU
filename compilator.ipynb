{
 "cells": [
  {
   "cell_type": "code",
   "execution_count": 7,
   "metadata": {
    "pycharm": {
     "name": "#%%\n"
    }
   },
   "outputs": [],
   "source": [
    "instructions = {\n",
    "  \"Add\": \"00000000\",\n",
    "  \"Sub\": \"00000001\",\n",
    "  \"Mult\": \"00000010\",\n",
    "  \"Div\": \"00000011\",\n",
    "  \"Or\": \"00000100\",\n",
    "  \"Xor\": \"00000101\",\n",
    "  \"And\": \"00000110\",\n",
    "  \"Not\": \"00000111\",\n",
    "  \"Equal\": \"00001000\",\n",
    "  \"Rem\": \"00001001\",\n",
    "  \"Write\": \"00001010\",\n",
    "  \"Jump\": \"0001011\",\n",
    "  \"Jump1\": \"00001100\",\n",
    "  \"Jump0\": \"00001101\"\n",
    "}"
   ]
  },
  {
   "cell_type": "code",
   "execution_count": 8,
   "metadata": {
    "pycharm": {
     "name": "#%%\n"
    }
   },
   "outputs": [],
   "source": [
    "registers = {\n",
    "  \"A\": \"00000000\",\n",
    "  \"B\": \"00000001\",\n",
    "  \"C\": \"00000010\",\n",
    "  \"D\": \"00000011\",\n",
    "  \"E\": \"00000100\",\n",
    "  \"RV\": \"00000101\",\n",
    "  \"SP\": \"00000110\",\n",
    "  \"PC\": \"00000111\",\n",
    "  \"DDR\": \"00001000\",\n",
    "  \"PORT\": \"00001001\",\n",
    "  \"INPUT\": \"00001010\",\n",
    "  \"UPDATE\": \"00001011\",\n",
    "  \"PRESCALER2\": \"00001100\",\n",
    "  \"PRESCALER1\": \"00001101\",\n",
    "  \"MASK\": \"00001110\"\n",
    "}"
   ]
  },
  {
   "cell_type": "code",
   "execution_count": 9,
   "metadata": {
    "pycharm": {
     "name": "#%%\n"
    }
   },
   "outputs": [],
   "source": [
    "operands = {\n",
    "  \"number\": \"0000\",  \n",
    "  \"#\": \"0001\",\n",
    "  \"?\": \"0001\",\n",
    "  \"!\": \"0010\",  \n",
    "  \"/\": \"0011\"\n",
    "}"
   ]
  },
  {
   "cell_type": "code",
   "execution_count": 10,
   "metadata": {
    "pycharm": {
     "name": "#%%\n"
    }
   },
   "outputs": [],
   "source": [
    "def encodeInstruction(splitted):\n",
    "    res = instructions[splitted[0]]\n",
    "    justCheck = False\n",
    "    \n",
    "    for i in range(1,len(splitted)):\n",
    "        if(splitted[0]==\"Write\" and i==2):\n",
    "            operands[\"#\"] = \"0000\"\n",
    "            justCheck = True \n",
    "        if(splitted[i][0].isnumeric()):\n",
    "            res+=operands[\"number\"]\n",
    "        else:\n",
    "            res+=operands[splitted[i][0]]  \n",
    "        if(splitted[i][0]==\"#\" or splitted[i][0]==\"?\" or splitted[i][0]==\"/\"):\n",
    "            res+=registers[splitted[i][1:]]            \n",
    "        else:\n",
    "            if(splitted[i][0]==\"!\"):\n",
    "                temp = (str(bin(int(splitted[i][1:]))).split(\"b\"))[1]\n",
    "            else:\n",
    "                temp = (str(bin(int(splitted[i]))).split(\"b\"))[1]\n",
    "            if len(temp)<8:\n",
    "                padding = [0]*(8-len(temp))\n",
    "                res+=''.join([str(elem) for elem in padding]) \n",
    "            res+=temp   \n",
    "        if(justCheck):\n",
    "            operands[\"#\"] = \"0001\"\n",
    "            justCheck = False\n",
    "    return res"
   ]
  },
  {
   "cell_type": "code",
   "execution_count": 11,
   "metadata": {
    "pycharm": {
     "name": "#%%\n"
    }
   },
   "outputs": [],
   "source": [
    "file = open(\"instruqtions.txt\", \"w\")\n",
    "file.write(\"v3.0 hex words addressed\\n\")\n",
    "\n",
    "with open('evenOdd.txt', 'r') as reader:\n",
    "    for inputStr in reader:\n",
    "        splitted = inputStr.split()\n",
    "        binaryInstruction = \"\"\n",
    "        try:\n",
    "            binaryInstruction = encodeInstruction(splitted)\n",
    "            if splitted[0] == \"Jump\" or splitted[0] == \"Jump1\" or splitted[0] == \"Jump0\":\n",
    "                padding = [0]*12\n",
    "                res=''.join([str(elem) for elem in padding]) \n",
    "                binaryInstruction+=res\n",
    "        except:\n",
    "            print(\"There are no similar instructions\")\n",
    "        \n",
    "        file.write(str(hex(int(binaryInstruction,2))).split(\"x\")[1]+\" \")\n",
    "        \n",
    "file.close()"
   ]
  },
  {
   "cell_type": "code",
   "execution_count": null,
   "metadata": {
    "pycharm": {
     "name": "#%%\n"
    }
   },
   "outputs": [],
   "source": []
  }
 ],
 "metadata": {
  "kernelspec": {
   "display_name": "Python 3 (ipykernel)",
   "language": "python",
   "name": "python3"
  },
  "language_info": {
   "codemirror_mode": {
    "name": "ipython",
    "version": 3
   },
   "file_extension": ".py",
   "mimetype": "text/x-python",
   "name": "python",
   "nbconvert_exporter": "python",
   "pygments_lexer": "ipython3",
   "version": "3.8.8"
  }
 },
 "nbformat": 4,
 "nbformat_minor": 4
}